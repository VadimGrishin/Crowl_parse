{
  "nbformat": 4,
  "nbformat_minor": 0,
  "metadata": {
    "colab": {
      "name": "Copy of Parsing_less2",
      "version": "0.3.2",
      "provenance": [],
      "collapsed_sections": [],
      "include_colab_link": true
    },
    "kernelspec": {
      "name": "python3",
      "display_name": "Python 3"
    }
  },
  "cells": [
    {
      "cell_type": "markdown",
      "metadata": {
        "id": "view-in-github",
        "colab_type": "text"
      },
      "source": [
        "<a href=\"https://colab.research.google.com/github/VadimGrishin/Crowl_parse/blob/master/Copy_of_Parsing_less2.ipynb\" target=\"_parent\"><img src=\"https://colab.research.google.com/assets/colab-badge.svg\" alt=\"Open In Colab\"/></a>"
      ]
    },
    {
      "cell_type": "code",
      "metadata": {
        "id": "7DBRwUwhSyP7",
        "colab_type": "code",
        "outputId": "05773118-31b2-43cf-c899-95c34399fdec",
        "colab": {
          "base_uri": "https://localhost:8080/",
          "height": 54
        }
      },
      "source": [
        "from google.colab import drive\n",
        "drive.mount('/content/drive')"
      ],
      "execution_count": 2,
      "outputs": [
        {
          "output_type": "stream",
          "text": [
            "Drive already mounted at /content/drive; to attempt to forcibly remount, call drive.mount(\"/content/drive\", force_remount=True).\n"
          ],
          "name": "stdout"
        }
      ]
    },
    {
      "cell_type": "code",
      "metadata": {
        "id": "Ll6rh6OaYHQl",
        "colab_type": "code",
        "colab": {}
      },
      "source": [
        "import requests\n",
        "import pprint"
      ],
      "execution_count": 0,
      "outputs": []
    },
    {
      "cell_type": "markdown",
      "metadata": {
        "id": "obkY5U4QhGPd",
        "colab_type": "text"
      },
      "source": [
        "**Task 1**\n",
        "\n",
        "Доработать приложение по поиску авиабилетов, чтобы оно возвращало билеты по названию города, а не по IATA коду. Пункт отправления и пункт назначения должны передаваться в качестве параметров. Сделать форматированный вывод, который содержит в себе пункт отправления, пункт назначения, дату вылета, цену билета (можно добавить еще другие параметры по желанию)"
      ]
    },
    {
      "cell_type": "code",
      "metadata": {
        "id": "1YkUOTkdhEy1",
        "colab_type": "code",
        "colab": {}
      },
      "source": [
        "flight_params = {\n",
        "    'origin': 'Москва',\n",
        "    'destination': 'Копенгаген'\n",
        "}"
      ],
      "execution_count": 0,
      "outputs": []
    },
    {
      "cell_type": "code",
      "metadata": {
        "id": "hTSkL64yVg-C",
        "colab_type": "code",
        "outputId": "1f13b4b2-d99c-4f7d-c6d4-8366e2d2e49d",
        "colab": {
          "base_uri": "https://localhost:8080/",
          "height": 34
        }
      },
      "source": [
        "# параметры для пункта отправления:\n",
        "req = requests.get(\"http://autocomplete.travelpayouts.com/places2\", params={'term': flight_params['origin']})\n",
        "orig_data = req.json() \n",
        "orig_code = orig_data[0]['code']\n",
        "from_orig = orig_data[0]['cases']['ro'] # родительный падеж\n",
        "orig_code, from_orig"
      ],
      "execution_count": 5,
      "outputs": [
        {
          "output_type": "execute_result",
          "data": {
            "text/plain": [
              "('MOW', 'Москвы')"
            ]
          },
          "metadata": {
            "tags": []
          },
          "execution_count": 5
        }
      ]
    },
    {
      "cell_type": "code",
      "metadata": {
        "id": "dNFEpBMnX80P",
        "colab_type": "code",
        "outputId": "7c5b4a6a-e04e-412f-ca93-3ec18960224c",
        "colab": {
          "base_uri": "https://localhost:8080/",
          "height": 34
        }
      },
      "source": [
        "# параметры для пункта назначения\n",
        "req = requests.get(\"http://autocomplete.travelpayouts.com/places2\", params={'term': flight_params['destination']})\n",
        "dest_data = req.json() \n",
        "dest_code = dest_data[0]['code']\n",
        "in_dest = dest_data[0]['cases']['vi'] # винительный падеж, куда\n",
        "dest_code, in_dest"
      ],
      "execution_count": 6,
      "outputs": [
        {
          "output_type": "execute_result",
          "data": {
            "text/plain": [
              "('CPH', 'в Копенгаген')"
            ]
          },
          "metadata": {
            "tags": []
          },
          "execution_count": 6
        }
      ]
    },
    {
      "cell_type": "code",
      "metadata": {
        "id": "irKTx2pOYM2v",
        "colab_type": "code",
        "colab": {}
      },
      "source": [
        "# основной запрос:\n",
        "req = requests.get(\"http://min-prices.aviasales.ru/calendar_preload\", \n",
        "                   params={'origin': orig_code, 'destination': dest_code, 'one_way': 'true'})"
      ],
      "execution_count": 0,
      "outputs": []
    },
    {
      "cell_type": "code",
      "metadata": {
        "id": "LxZIeWb6Z7lh",
        "colab_type": "code",
        "colab": {}
      },
      "source": [
        "data = req.json()\n",
        "\n",
        "tickets = data['best_prices']\n",
        "\n",
        "# сортируем по дате\n",
        "tickets.sort(key=lambda i: i['depart_date'])"
      ],
      "execution_count": 0,
      "outputs": []
    },
    {
      "cell_type": "code",
      "metadata": {
        "id": "aaX2LFwnZ90T",
        "colab_type": "code",
        "outputId": "812f7da3-8c19-46de-f67f-5d63943accb1",
        "colab": {
          "base_uri": "https://localhost:8080/",
          "height": 442
        }
      },
      "source": [
        "# вывод результата (первые 20 строк)\n",
        "print(f'Билеты из {from_orig} {in_dest}: ')\n",
        "print('-'*28)\n",
        "print(f'|{\"Дата вылета\":^15}|{\"Цена\":^10}|')\n",
        "print('-'*28)\n",
        "for ticket in tickets[:20:]:\n",
        "    print(f'|{ticket[\"depart_date\"]:^15}|{ticket[\"value\"]:>10}|')\n",
        "print('-'*28)"
      ],
      "execution_count": 9,
      "outputs": [
        {
          "output_type": "stream",
          "text": [
            "Билеты из Москвы в Копенгаген: \n",
            "----------------------------\n",
            "|  Дата вылета  |   Цена   |\n",
            "----------------------------\n",
            "|  2019-07-24   |   11548.0|\n",
            "|  2019-07-25   |   12219.0|\n",
            "|  2019-07-26   |   12027.0|\n",
            "|  2019-07-27   |   11524.0|\n",
            "|  2019-07-28   |   10215.0|\n",
            "|  2019-07-29   |   12219.0|\n",
            "|  2019-07-30   |    8824.0|\n",
            "|  2019-07-31   |   12091.0|\n",
            "|  2019-08-01   |    9933.0|\n",
            "|  2019-08-02   |   12384.0|\n",
            "|  2019-08-03   |    9933.0|\n",
            "|  2019-08-04   |   12219.0|\n",
            "|  2019-08-05   |   12091.0|\n",
            "|  2019-08-06   |   10601.0|\n",
            "|  2019-08-07   |    8938.0|\n",
            "|  2019-08-08   |    9901.0|\n",
            "|  2019-08-09   |    9909.0|\n",
            "|  2019-08-10   |   11717.0|\n",
            "|  2019-08-11   |    8956.0|\n",
            "|  2019-08-12   |    8181.0|\n",
            "----------------------------\n"
          ],
          "name": "stdout"
        }
      ]
    },
    {
      "cell_type": "markdown",
      "metadata": {
        "id": "EdEtc-sBiLLE",
        "colab_type": "text"
      },
      "source": [
        "**Task 2**\n",
        "\n",
        "В приложении парсинга википедии получить первую ссылку на другую страницу и вывести все значимые слова из неё. Результат записать в файл в форматированном виде\n",
        "\n",
        "\n",
        "**Task 3  ***\n",
        "\n",
        "*Научить приложение определять количество ссылок в статье. Спарсить каждую ссылку и результаты записать в отдельные файлы."
      ]
    },
    {
      "cell_type": "code",
      "metadata": {
        "id": "4fqBY275g-T-",
        "colab_type": "code",
        "colab": {}
      },
      "source": [
        "import re\n",
        "import collections\n",
        "import yaml"
      ],
      "execution_count": 0,
      "outputs": []
    },
    {
      "cell_type": "code",
      "metadata": {
        "id": "aCvYOFb0hAD2",
        "colab_type": "code",
        "colab": {}
      },
      "source": [
        "def return_wiki_html(topic):\n",
        "    wiki_request = requests.get(f'https://ru.wikipedia.org/wiki/{topic.capitalize()}')\n",
        "    return wiki_request.text"
      ],
      "execution_count": 0,
      "outputs": []
    },
    {
      "cell_type": "code",
      "metadata": {
        "id": "2-0IJSX9hAse",
        "colab_type": "code",
        "colab": {}
      },
      "source": [
        "def return_words(href):\n",
        "    req = requests.get(href)\n",
        "    # print(req.text)\n",
        "    words = re.findall('[а-яА-Я]{4,}', req.text)\n",
        "    words_counter = collections.Counter()\n",
        "    for word in words:\n",
        "        words_counter[word] += 1\n",
        "    # for word in words_counter.most_common(10):\n",
        "    #     print(f'Слово {word[0]} встречается {word[1]} раз')\n",
        "    return words_counter.most_common(10)"
      ],
      "execution_count": 0,
      "outputs": []
    },
    {
      "cell_type": "code",
      "metadata": {
        "id": "cj3z2l4NLHFo",
        "colab_type": "code",
        "colab": {}
      },
      "source": [
        "sss = return_wiki_html('игра')"
      ],
      "execution_count": 0,
      "outputs": []
    },
    {
      "cell_type": "code",
      "metadata": {
        "id": "IQzz_sl_LHcQ",
        "colab_type": "code",
        "outputId": "51b6224c-ae84-46df-c47c-95ae5aaa09db",
        "colab": {
          "base_uri": "https://localhost:8080/",
          "height": 340
        }
      },
      "source": [
        "# поиск ссылок, добавил опережающее условие, чтобы исключить автоссылки на wiki\n",
        "hrefs = re.findall(r'(http[s]?:\\/\\/(?!.*wiki)[\\da-z]+\\.[\\/\\w \\.\\-\\?\\=]*)', sss) \n",
        "hrefs"
      ],
      "execution_count": 14,
      "outputs": [
        {
          "output_type": "execute_result",
          "data": {
            "text/plain": [
              "['http://antmakarenko.narod.ru/liter/vospm/vosp_det.htm',\n",
              " 'https://www.webcitation.org/6GZFqFiMD?url=http',\n",
              " 'http://psychlib.ru/mgppu/zim/ZIM-001-.HTM',\n",
              " 'http://pedlib.ru/Books/2/0466/2_0466-85.shtml',\n",
              " 'https://www.webcitation.org/6GZFqpCtA?url=http',\n",
              " 'http://www.rusnauka.com/13_EISN_2013/Pedagogica/3_136470.doc.htm',\n",
              " 'https://www.webcitation.org/6GZFrs7lK?url=http',\n",
              " 'http://modernproblems.org.ru/philosofy/159-games1.html?start=7',\n",
              " 'https://www.webcitation.org/6GZFsQEVL?url=http',\n",
              " 'http://modernproblems.org.ru/philosofy/159-games1.html?start=34',\n",
              " 'https://www.webcitation.org/6GZFtFnpw?url=http',\n",
              " 'http://rrcdetstvo.ru/content/view/118/119/',\n",
              " 'http://rrcdetstvo.ru/content/view/118/119/',\n",
              " 'http://dob.1september.ru/articlef.php?ID=200500510',\n",
              " 'https://www.webcitation.org/6GZFu0qtr?url=http',\n",
              " 'http://sbiblio.com/biblio/archive/usnadse_antolo/04.aspx',\n",
              " 'https://www.webcitation.org/6GZFuzo5J?url=http',\n",
              " 'http://jorigami.ru/NewDoc/Makarenko_about_games.htm',\n",
              " 'http://id.ndl.go.jp/auth/ndlna/01052178']"
            ]
          },
          "metadata": {
            "tags": []
          },
          "execution_count": 14
        }
      ]
    },
    {
      "cell_type": "code",
      "metadata": {
        "id": "0nOmKOMELII3",
        "colab_type": "code",
        "outputId": "fbd7c5ad-b4d6-4ae3-a813-29a540e2ddf3",
        "colab": {
          "base_uri": "https://localhost:8080/",
          "height": 34
        }
      },
      "source": [
        "print(f'Количество внешних ссылок со страницы - {len(hrefs)}')"
      ],
      "execution_count": 15,
      "outputs": [
        {
          "output_type": "stream",
          "text": [
            "Количество внешних ссылок со страницы - 19\n"
          ],
          "name": "stdout"
        }
      ]
    },
    {
      "cell_type": "code",
      "metadata": {
        "id": "bONqCG4MLHzQ",
        "colab_type": "code",
        "colab": {}
      },
      "source": [
        "# создаем необходимые файлы в data_path\n",
        "data_path = 'drive/My Drive/data/'\n",
        "\n",
        "i=1\n",
        "\n",
        "for href in hrefs:\n",
        "  \n",
        "    with open(data_path + f'href{i}_blocked.yml', 'w') as file:\n",
        "      \n",
        "        yaml.dump([href, [list(item) for item in return_words(href)]], file, \n",
        "                  Dumper=yaml.Dumper, default_flow_style=False, allow_unicode = True)\n",
        "        \n",
        "    i += 1\n",
        "  "
      ],
      "execution_count": 0,
      "outputs": []
    },
    {
      "cell_type": "code",
      "metadata": {
        "id": "Ky2rnyq3OO-6",
        "colab_type": "code",
        "colab": {}
      },
      "source": [
        ""
      ],
      "execution_count": 0,
      "outputs": []
    },
    {
      "cell_type": "code",
      "metadata": {
        "id": "Zer1j317OUsb",
        "colab_type": "code",
        "colab": {}
      },
      "source": [
        "\n",
        "    \n"
      ],
      "execution_count": 0,
      "outputs": []
    },
    {
      "cell_type": "code",
      "metadata": {
        "id": "KDwud2BnTSFi",
        "colab_type": "code",
        "colab": {}
      },
      "source": [
        ""
      ],
      "execution_count": 0,
      "outputs": []
    }
  ]
}